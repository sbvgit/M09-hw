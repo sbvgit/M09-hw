{
 "cells": [
  {
   "cell_type": "markdown",
   "metadata": {},
   "source": [
    "# Metadata\n",
    "\n",
    "```yaml\n",
    "Course:  DS 5100\n",
    "Module:  09 Python Packages\n",
    "Topic:   HW Package Booklover\n",
    "Author:  R.C. Alvarado (adapted)\n",
    "Date:    7 July 2023 (revised)\n",
    "```"
   ]
  },
  {
   "cell_type": "markdown",
   "metadata": {},
   "source": [
    "# Student Info\n",
    "\n",
    "* Name:  Swaroop Veerabhadrappa\n",
    "* Net UD: sbv5dn\n",
    "* URL of this file in GitHub: "
   ]
  },
  {
   "cell_type": "markdown",
   "metadata": {},
   "source": [
    "# Instructions\n",
    "\n",
    "In your **private course repo on Rivanna**, use this Jupyter notebook and the data file described to write code that performs the tasks below. \n",
    "\n",
    "Save your notebook in the `M09` directory.\n",
    "\n",
    "Remember to add and commit these files to your repo. \n",
    "\n",
    "Then push your commits to your repo on GitHib.\n",
    "\n",
    "Be sure to fill out the **Student Info** block above.\n",
    "\n",
    "To submit your homework, save your results as a PDF and upload it to GradeScope. More information about how to create the PDF for this assignment are included at the end of this document.\n",
    "\n",
    "**TOTAL POINTS: 8**"
   ]
  },
  {
   "cell_type": "markdown",
   "metadata": {},
   "source": [
    "# Overview\n",
    "\n",
    "Follow the following recipe we used in class to package the code you wrote for `HW08` -- `booklover.py` and `booklover_test.py`.\n",
    "\n",
    "* Create a new git repo for your package.\n",
    "* Create and edit the required files and directories for your package and move the booklover modules there.\n",
    "* Stage, commit, and push all the files you've created.\n",
    "* Install your package with pip.\n",
    "* Outside of your package dir, write a script to test your method.\n",
    "\n",
    "Put this notebook in your repo. This will allow you to execute bash commands and capture the outpunt directly in the notebook.\n",
    "\n",
    "**TOTAL: 8 POINTS**"
   ]
  },
  {
   "cell_type": "markdown",
   "metadata": {
    "tags": []
   },
   "source": [
    "# Tasks"
   ]
  },
  {
   "cell_type": "markdown",
   "metadata": {},
   "source": [
    "## Task 1\n",
    "\n",
    "(5 points)\n",
    "\n",
    "Show the directory structure of your repo by running this command from the root of your repo:"
   ]
  },
  {
   "cell_type": "code",
   "execution_count": 20,
   "metadata": {},
   "outputs": [
    {
     "name": "stdout",
     "output_type": "stream",
     "text": [
      ".:\n",
      "total 52\n",
      "-rw-r--r-- 1 sbv5dn users 2353 Oct 30 20:48 booklover.py\n",
      "-rw-r--r-- 1 sbv5dn users 2486 Oct 30 18:40 booklover_test.py\n",
      "-rw-r--r-- 1 sbv5dn users   29 Oct 30 20:48 __init__.py\n",
      "-rw-r--r-- 1 sbv5dn users 1079 Oct 30 18:36 LICENSE\n",
      "-rw-r--r-- 1 sbv5dn users 7411 Nov  3 19:43 M09_HW_Veerabhadrappa.ipynb\n",
      "drwxr-sr-x 2 sbv5dn users  512 Oct 30 19:04 __pycache__\n",
      "-rw-r--r-- 1 sbv5dn users   25 Oct 30 20:48 README.md\n",
      "-rw-r--r-- 1 sbv5dn users  298 Nov  3 19:42 setup.py\n",
      "drwxr-sr-x 3 sbv5dn users  512 Nov  3 19:18 src\n",
      "\n",
      "./__pycache__:\n",
      "total 8\n",
      "-rw-r--r-- 1 sbv5dn users 2562 Oct 30 19:04 booklover.cpython-36.pyc\n",
      "\n",
      "./src:\n",
      "total 4\n",
      "drwxr-sr-x 4 sbv5dn users 5120 Nov  3 19:24 booklover-py\n",
      "\n",
      "./src/booklover-py:\n",
      "total 44\n",
      "-rw-r--r-- 1 sbv5dn users 2353 Nov  3 19:18 booklover.py\n",
      "-rw-r--r-- 1 sbv5dn users 2486 Nov  3 19:18 booklover_test.py\n",
      "-rw-r--r-- 1 sbv5dn users   29 Nov  3 19:18 __init__.py\n",
      "-rw-r--r-- 1 sbv5dn users 1079 Nov  3 19:18 LICENSE\n",
      "-rw-r--r-- 1 sbv5dn users 5193 Nov  3 19:18 M09_HW_Veerabhadrappa.ipynb\n",
      "-rw-r--r-- 1 sbv5dn users   25 Nov  3 19:18 README.md\n",
      "-rw-r--r-- 1 sbv5dn users  289 Nov  3 19:18 setup.py\n"
     ]
    }
   ],
   "source": [
    "!ls -lR"
   ]
  },
  {
   "cell_type": "markdown",
   "metadata": {},
   "source": [
    "## Task 2\n",
    "\n",
    "(1 point)\n",
    "\n",
    "Put the URL of your GitHub repo here. Just paste it into a Markdown cell."
   ]
  },
  {
   "cell_type": "markdown",
   "metadata": {},
   "source": [
    "URL: https://github.com/sbvgit/M09-hw"
   ]
  },
  {
   "cell_type": "markdown",
   "metadata": {
    "lines_to_next_cell": 0
   },
   "source": [
    "## Task 3\n",
    "\n",
    "(1 point)\n",
    "\n",
    "Show the results of installing your package.\n",
    "\n",
    "```bash\n",
    "!pip install .\n",
    "```\n"
   ]
  },
  {
   "cell_type": "code",
   "execution_count": null,
   "metadata": {},
   "outputs": [],
   "source": [
    "!pip install -e 'git+https://github.com/sbvgit/M09-hw.git#egg=booklover.py'"
   ]
  },
  {
   "cell_type": "code",
   "execution_count": 28,
   "metadata": {},
   "outputs": [
    {
     "name": "stdout",
     "output_type": "stream",
     "text": [
      "/sfs/qumulo/qhome/sbv5dn/M09-hw\n"
     ]
    }
   ],
   "source": [
    "!pwd"
   ]
  },
  {
   "cell_type": "code",
   "execution_count": 27,
   "metadata": {},
   "outputs": [
    {
     "name": "stdout",
     "output_type": "stream",
     "text": [
      "Defaulting to user installation because normal site-packages is not writeable\n",
      "Collecting git+https://github.com/sbvgit/M09-hw.git@v1.0.3\n",
      "  Cloning https://github.com/sbvgit/M09-hw.git (to revision v1.0.3) to /tmp/pip-req-build-hemgr62r\n",
      "\u001b[31m    ERROR: Command errored out with exit status 1:\n",
      "     command: /apps/software/standard/compiler/gcc/9.2.0/jupyter_conda/2020.11-py3.8/bin/python3 -c 'import sys, setuptools, tokenize; sys.argv[0] = '\"'\"'/tmp/pip-req-build-hemgr62r/setup.py'\"'\"'; __file__='\"'\"'/tmp/pip-req-build-hemgr62r/setup.py'\"'\"';f=getattr(tokenize, '\"'\"'open'\"'\"', open)(__file__);code=f.read().replace('\"'\"'\\r\\n'\"'\"', '\"'\"'\\n'\"'\"');f.close();exec(compile(code, __file__, '\"'\"'exec'\"'\"'))' egg_info --egg-base /tmp/pip-pip-egg-info-4xdm0_8s\n",
      "         cwd: /tmp/pip-req-build-hemgr62r/\n",
      "    Complete output (5 lines):\n",
      "    Traceback (most recent call last):\n",
      "      File \"<string>\", line 1, in <module>\n",
      "      File \"/tmp/pip-req-build-hemgr62r/setup.py\", line 11, in <module>\n",
      "        packages=find_packages('booklover.py', exclude=[\"*test\", \"src\"])\n",
      "    NameError: name 'find_packages' is not defined\n",
      "    ----------------------------------------\u001b[0m\n",
      "\u001b[31mERROR: Command errored out with exit status 1: python setup.py egg_info Check the logs for full command output.\u001b[0m\n"
     ]
    }
   ],
   "source": [
    "!python3 -m pip install git+https://github.com/sbvgit/M09-hw.git@v1.0.3"
   ]
  },
  {
   "cell_type": "markdown",
   "metadata": {},
   "source": [
    "## Task 4\n",
    "\n",
    "(1 point)\n",
    "\n",
    "Create a file outside your repo to test your package by running it.\n",
    "\n",
    "To do this, import the package into your file and create a BookLover object.\n",
    "\n",
    "Then add a book and then print number books read.\n",
    "\n",
    "Then run the file. \n",
    "\n",
    "Show the output of running the file below, using a command like the following:\n",
    "\n",
    "```bash\n",
    "!python ../book_lover_demo.py\n",
    "```"
   ]
  },
  {
   "cell_type": "code",
   "execution_count": null,
   "metadata": {},
   "outputs": [],
   "source": []
  }
 ],
 "metadata": {
  "jupytext": {
   "cell_metadata_filter": "-all",
   "main_language": "bash",
   "notebook_metadata_filter": "-all"
  },
  "kernelspec": {
   "display_name": "Python 3",
   "language": "python",
   "name": "python3"
  },
  "language_info": {
   "codemirror_mode": {
    "name": "ipython",
    "version": 3
   },
   "file_extension": ".py",
   "mimetype": "text/x-python",
   "name": "python",
   "nbconvert_exporter": "python",
   "pygments_lexer": "ipython3",
   "version": "3.8.8"
  },
  "vscode": {
   "interpreter": {
    "hash": "c3b963de08c47c3b6758389c5e0978ad73698a111eb508d4e16b558edb8f4cbf"
   }
  },
  "widgets": {
   "application/vnd.jupyter.widget-state+json": {
    "state": {},
    "version_major": 2,
    "version_minor": 0
   }
  }
 },
 "nbformat": 4,
 "nbformat_minor": 5
}
